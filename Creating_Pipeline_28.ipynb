{
 "cells": [
  {
   "cell_type": "code",
   "execution_count": 1,
   "id": "278d395f-92c6-4b65-9f25-58626efe1e7f",
   "metadata": {},
   "outputs": [],
   "source": [
    "# Functions --> Code that takes inputs and returns outputs\n",
    "# Functions --> can take 0 inputs or n inputs\n",
    "# Funcitons --> can return 1 output or n outputs\n",
    "\n",
    "# Helper Function --> 2 function called inside first function\n",
    "\n",
    "# Module --> youll puttng all the code in a python file when ever you require it youll be importing it\n",
    "\n",
    "# Pipeline -->"
   ]
  },
  {
   "cell_type": "code",
   "execution_count": 2,
   "id": "472fb8b3-f1a7-4e02-a6e4-137ad3dc583c",
   "metadata": {},
   "outputs": [],
   "source": [
    "# run.py --> calling only one function\n",
    "\n",
    "# one function ---> what ever the functions that you have already designed should be called under this"
   ]
  },
  {
   "cell_type": "code",
   "execution_count": null,
   "id": "194ac31d-1439-42c6-bf78-c3b1c1ff4672",
   "metadata": {},
   "outputs": [],
   "source": [
    "# Abstraction, Inheritence ?\n",
    "# Hiding the code from the user \n",
    "\n",
    "# In inheritence you can create a object on the parent class\n",
    "# In abstraction you have to inherit the abstract class into a child class and then create objects on child class"
   ]
  },
  {
   "cell_type": "code",
   "execution_count": null,
   "id": "d39bc502-381c-4639-9b46-5819f5cf1692",
   "metadata": {},
   "outputs": [],
   "source": [
    "# when youre a building a pipeline youll have to divide the project into chunks\n",
    "\n",
    "# youll have to allocate a group of people each chunk\n",
    "# since every one is having a different mindsent and have different logics to write a code \n",
    "# during the integration part ill be facing lot of issues"
   ]
  },
  {
   "cell_type": "code",
   "execution_count": 3,
   "id": "8bc9e2f3-d5fc-42a7-abdf-31a4a49220ed",
   "metadata": {},
   "outputs": [],
   "source": [
    "# Abstraction:\n",
    "\n",
    "# Senior Developer will provide the skeleton of the code \n",
    "# Junior Developeers have to build the code with the same skeleton and submit it back to Senior Developer\n",
    "\n",
    "\n",
    "# Version based Developments"
   ]
  },
  {
   "cell_type": "code",
   "execution_count": 4,
   "id": "cf5875a6-c001-485f-8445-953949d7daa5",
   "metadata": {},
   "outputs": [],
   "source": [
    "# reading the image \n",
    "# loading the image \n",
    "# applying filter on the image\n",
    "# displaying the image\n",
    "\n",
    "# path\n",
    "# load the image\n",
    "# apply filter\n",
    "# displaying the image"
   ]
  },
  {
   "cell_type": "code",
   "execution_count": null,
   "id": "afb0619d-97c9-4eda-9dfe-bf811fa0949b",
   "metadata": {},
   "outputs": [],
   "source": [
    "# path\n",
    "# load the image\n",
    "# passing the iamge to the object detection model\n",
    "# extracting the annotated image\n",
    "# displaying the image"
   ]
  },
  {
   "cell_type": "code",
   "execution_count": 14,
   "id": "290a98b7-4b7a-4846-b1ff-b0c587be8744",
   "metadata": {},
   "outputs": [
    {
     "name": "stdout",
     "output_type": "stream",
     "text": [
      "Collecting opencv-python\n",
      "  Using cached opencv_python-4.11.0.86-cp37-abi3-win_amd64.whl.metadata (20 kB)\n",
      "Collecting numpy>=1.21.2 (from opencv-python)\n",
      "  Using cached numpy-2.2.6-cp312-cp312-win_amd64.whl.metadata (60 kB)\n",
      "Using cached opencv_python-4.11.0.86-cp37-abi3-win_amd64.whl (39.5 MB)\n",
      "Using cached numpy-2.2.6-cp312-cp312-win_amd64.whl (12.6 MB)\n",
      "Installing collected packages: numpy, opencv-python\n",
      "\n",
      "   ---------------------------------------- 0/2 [numpy]\n",
      "   ---------------------------------------- 0/2 [numpy]\n",
      "   ---------------------------------------- 0/2 [numpy]\n",
      "   ---------------------------------------- 0/2 [numpy]\n",
      "   ---------------------------------------- 0/2 [numpy]\n",
      "   ---------------------------------------- 0/2 [numpy]\n",
      "   ---------------------------------------- 0/2 [numpy]\n",
      "   ---------------------------------------- 0/2 [numpy]\n",
      "   ---------------------------------------- 0/2 [numpy]\n",
      "   ---------------------------------------- 0/2 [numpy]\n",
      "   ---------------------------------------- 0/2 [numpy]\n",
      "   ---------------------------------------- 0/2 [numpy]\n",
      "   ---------------------------------------- 0/2 [numpy]\n",
      "   ---------------------------------------- 0/2 [numpy]\n",
      "   ---------------------------------------- 0/2 [numpy]\n",
      "   ---------------------------------------- 0/2 [numpy]\n",
      "   ---------------------------------------- 0/2 [numpy]\n",
      "   ---------------------------------------- 0/2 [numpy]\n",
      "   ---------------------------------------- 0/2 [numpy]\n",
      "   ---------------------------------------- 0/2 [numpy]\n",
      "   ---------------------------------------- 0/2 [numpy]\n",
      "   ---------------------------------------- 0/2 [numpy]\n",
      "   ---------------------------------------- 0/2 [numpy]\n",
      "   ---------------------------------------- 0/2 [numpy]\n",
      "   ---------------------------------------- 0/2 [numpy]\n",
      "   ---------------------------------------- 0/2 [numpy]\n",
      "   ---------------------------------------- 0/2 [numpy]\n",
      "   ---------------------------------------- 0/2 [numpy]\n",
      "   -------------------- ------------------- 1/2 [opencv-python]\n",
      "   -------------------- ------------------- 1/2 [opencv-python]\n",
      "   -------------------- ------------------- 1/2 [opencv-python]\n",
      "   -------------------- ------------------- 1/2 [opencv-python]\n",
      "   -------------------- ------------------- 1/2 [opencv-python]\n",
      "   ---------------------------------------- 2/2 [opencv-python]\n",
      "\n",
      "Successfully installed numpy-2.2.6 opencv-python-4.11.0.86\n"
     ]
    }
   ],
   "source": [
    "!pip install opencv-python"
   ]
  },
  {
   "cell_type": "code",
   "execution_count": 26,
   "id": "3f5293a9-447c-4a04-b6f6-eefda85df63a",
   "metadata": {},
   "outputs": [],
   "source": [
    "from abc import ABC,abstractmethod\n",
    "import cv2\n",
    "from ultralytics import YOLO\n",
    "import matplotlib.pyplot as plt"
   ]
  },
  {
   "cell_type": "code",
   "execution_count": 44,
   "id": "5f4cea6e-c21a-42e5-b1ba-ea9929c5641c",
   "metadata": {},
   "outputs": [],
   "source": [
    "class sample_pipeline(ABC):\n",
    "\n",
    "    def __init__(self,image_path):\n",
    "        self.image_path = image_path\n",
    "\n",
    "    @abstractmethod\n",
    "    def load_image(self):\n",
    "        pass\n",
    "\n",
    "    @abstractmethod\n",
    "    def apply_hfilter(self):\n",
    "        pass\n",
    "\n",
    "    @abstractmethod\n",
    "    def apply_vfilter(self):\n",
    "        pass\n",
    "\n",
    "    @abstractmethod\n",
    "    def apply_blurfilter(self):\n",
    "        pass\n",
    "\n",
    "    @abstractmethod\n",
    "    def display_img(self,image):\n",
    "        pass"
   ]
  },
  {
   "cell_type": "code",
   "execution_count": 50,
   "id": "bcc6cf22-5478-4de7-961d-4acaf0d32f94",
   "metadata": {},
   "outputs": [],
   "source": [
    "class project(sample_pipeline):\n",
    "    \n",
    "    def __init__(self,image_path):\n",
    "        self.image_path = image_path\n",
    "\n",
    "    def load_image(self):\n",
    "        img = cv2.imread(self.image_path)\n",
    "        return img\n",
    "\n",
    "    def apply_hfilter(self):\n",
    "        flip = cv2.flip(self.load_image(),1)\n",
    "        self.display_img(image=flip)\n",
    "\n",
    "    def apply_vfilter(self):\n",
    "        flip = cv2.flip(self.load_image(),0)\n",
    "        self.display_img(image=flip)\n",
    "\n",
    "    def apply_blurfilter(self):\n",
    "        blur = cv2.blur(self.load_image(), ksize=(15,15)) \n",
    "        self.display_img(image=blur)\n",
    "\n",
    "    def display_img(self,image):\n",
    "        cv2.imshow(\"window\",image)\n",
    "        cv2.waitKey(0)\n",
    "        cv2.destroyAllWindows()"
   ]
  },
  {
   "cell_type": "code",
   "execution_count": 51,
   "id": "d8286306-38b6-4483-a0db-d291426a18ac",
   "metadata": {},
   "outputs": [],
   "source": [
    "charan = project(r\"C:\\Users\\saich\\Downloads\\istockphoto-531724051-612x612.jpg\")"
   ]
  },
  {
   "cell_type": "code",
   "execution_count": 52,
   "id": "72a71ec9-44d6-4ffd-b799-7458a2cc5178",
   "metadata": {},
   "outputs": [],
   "source": [
    "charan.apply_hfilter()"
   ]
  },
  {
   "cell_type": "code",
   "execution_count": 53,
   "id": "f66a9ef3-091f-4c22-a630-c9ef966c1be8",
   "metadata": {},
   "outputs": [],
   "source": [
    "charan.apply_vfilter()"
   ]
  },
  {
   "cell_type": "code",
   "execution_count": 54,
   "id": "b4b6c3cc-3f5e-4582-a587-0192185bb53f",
   "metadata": {},
   "outputs": [],
   "source": [
    "charan.apply_blurfilter()"
   ]
  },
  {
   "cell_type": "code",
   "execution_count": 34,
   "id": "13afeca2-312e-4339-9f19-69e65995210d",
   "metadata": {},
   "outputs": [],
   "source": [
    "# path\n",
    "# load the image\n",
    "# passing the iamge to the object detection model\n",
    "# extracting the annotated image\n",
    "# displaying the image\n",
    "\n",
    "\n",
    "# VERSION 1 - Skeleton Code\n",
    "class image_det(ABC):\n",
    "\n",
    "    def __init__(self,*,image_path,objdet_path):\n",
    "        pass\n",
    "\n",
    "    @abstractmethod\n",
    "    def load_image(self):\n",
    "        pass\n",
    "    \n",
    "    @abstractmethod\n",
    "    def loading_objdet_model(self):\n",
    "        pass\n",
    "   \n",
    "    @abstractmethod \n",
    "    def passing_image_objdet_model(self,cls):# HINT: return image,coordinates\n",
    "        pass\n",
    "\n",
    "    @abstractmethod\n",
    "    def annotate_image(self):\n",
    "        pass\n",
    "        \n",
    "    @abstractmethod\n",
    "    def display_img(self,image):\n",
    "        pass"
   ]
  },
  {
   "cell_type": "code",
   "execution_count": 35,
   "id": "e46b9ea4-b65b-48f4-bc4b-80be597e0753",
   "metadata": {},
   "outputs": [],
   "source": [
    "class charan(image_det):\n",
    "    \n",
    "    def __init__(self,*,image_path,objdet_path):\n",
    "        self.image_path = image_path\n",
    "        self.objdet_path = objdet_path\n",
    "\n",
    "    def load_image(self):\n",
    "        image = cv2.imread(self.image_path)\n",
    "        return image\n",
    "    \n",
    "    def loading_objdet_model(self):\n",
    "        model = YOLO(self.objdet_path)\n",
    "        return model\n",
    "   \n",
    "    def passing_image_objdet_model(self,cls=0):# HINT: return image,coordinates\n",
    "        results = self.loading_objdet_model().predict(self.load_image(),classes=cls)\n",
    "        coordinates = []\n",
    "        if len(results)>=1:\n",
    "            x1 = int(results[0].boxes.xyxy.numpy()[0][0])\n",
    "            y1 = int(results[0].boxes.xyxy.numpy()[0][1])\n",
    "            x2 = int(results[0].boxes.xyxy.numpy()[0][2])\n",
    "            y2 = int(results[0].boxes.xyxy.numpy()[0][3])\n",
    "            coordinates.append([x1,y1,x2,y2])\n",
    "        return coordinates\n",
    "\n",
    "    def annotate_image(self):\n",
    "        coords = self.passing_image_objdet_model()\n",
    "        img = self.load_image()\n",
    "        print(coords,\"IM HERERERERERE=================>\")\n",
    "        x1,y1,x2,y2 = coords[0][0],coords[0][1],coords[0][2],coords[0][3]\n",
    "        cv2.rectangle(img,(x1,y1),(x2,y2),(0,0,255),3)\n",
    "        self.display_img(image=img)\n",
    "        \n",
    "    def display_img(self,image): # what ever the image that you pass its going to display\n",
    "        cv2.imshow(\"window\",image)\n",
    "        cv2.waitKey(0)\n",
    "        cv2.destroyAllWindows()"
   ]
  },
  {
   "cell_type": "code",
   "execution_count": 32,
   "id": "637dd661-a71e-42d2-8cf4-d9f1a5c2a2db",
   "metadata": {},
   "outputs": [],
   "source": [
    "img1 = charan(image_path=r\"C:\\Users\\saich\\Downloads\\istockphoto-531724051-612x612.jpg\",objdet_path=\"yolov8n.pt\")"
   ]
  },
  {
   "cell_type": "code",
   "execution_count": 36,
   "id": "117a0fa3-de32-4008-a89d-85b5ba8fb7ca",
   "metadata": {},
   "outputs": [
    {
     "ename": "TypeError",
     "evalue": "__init__() takes 1 positional argument but 3 were given",
     "output_type": "error",
     "traceback": [
      "\u001b[1;31m---------------------------------------------------------------------------\u001b[0m",
      "\u001b[1;31mTypeError\u001b[0m                                 Traceback (most recent call last)",
      "Cell \u001b[1;32mIn[36], line 1\u001b[0m\n\u001b[1;32m----> 1\u001b[0m img1 \u001b[38;5;241m=\u001b[39m \u001b[43mcharan\u001b[49m\u001b[43m(\u001b[49m\u001b[38;5;124;43mr\u001b[39;49m\u001b[38;5;124;43m\"\u001b[39;49m\u001b[38;5;124;43mC:\u001b[39;49m\u001b[38;5;124;43m\\\u001b[39;49m\u001b[38;5;124;43mUsers\u001b[39;49m\u001b[38;5;124;43m\\\u001b[39;49m\u001b[38;5;124;43msaich\u001b[39;49m\u001b[38;5;124;43m\\\u001b[39;49m\u001b[38;5;124;43mDownloads\u001b[39;49m\u001b[38;5;124;43m\\\u001b[39;49m\u001b[38;5;124;43mistockphoto-531724051-612x612.jpg\u001b[39;49m\u001b[38;5;124;43m\"\u001b[39;49m\u001b[43m,\u001b[49m\u001b[38;5;124;43m\"\u001b[39;49m\u001b[38;5;124;43myolov8n.pt\u001b[39;49m\u001b[38;5;124;43m\"\u001b[39;49m\u001b[43m)\u001b[49m\n",
      "\u001b[1;31mTypeError\u001b[0m: __init__() takes 1 positional argument but 3 were given"
     ]
    }
   ],
   "source": [
    "img1 = charan(r\"C:\\Users\\saich\\Downloads\\istockphoto-531724051-612x612.jpg\",\"yolov8n.pt\")"
   ]
  },
  {
   "cell_type": "code",
   "execution_count": 33,
   "id": "238b8fd8-7e79-4460-a433-6c0f6ea83495",
   "metadata": {},
   "outputs": [
    {
     "name": "stdout",
     "output_type": "stream",
     "text": [
      "\n",
      "0: 640x448 1 person, 178.7ms\n",
      "Speed: 6.0ms preprocess, 178.7ms inference, 1.0ms postprocess per image at shape (1, 3, 640, 448)\n",
      "[[106, 15, 291, 595]] IM HERERERERERE=================>\n"
     ]
    }
   ],
   "source": [
    "img1.annotate_image()"
   ]
  },
  {
   "cell_type": "code",
   "execution_count": 37,
   "id": "4c3ac50e-0a90-44f3-af42-a8d9c52a75a3",
   "metadata": {},
   "outputs": [],
   "source": [
    "def something(a,b,c,d):\n",
    "    add = a+b\n",
    "    sub = c-d\n",
    "    return add,sub"
   ]
  },
  {
   "cell_type": "code",
   "execution_count": 38,
   "id": "f354a35d-ad99-44e7-ba39-ad04a2c2ddf2",
   "metadata": {},
   "outputs": [
    {
     "data": {
      "text/plain": [
       "(3, -1)"
      ]
     },
     "execution_count": 38,
     "metadata": {},
     "output_type": "execute_result"
    }
   ],
   "source": [
    "something(1,2,3,4)"
   ]
  },
  {
   "cell_type": "code",
   "execution_count": null,
   "id": "41f1d33c-44f7-454b-8406-af8a0490aeb0",
   "metadata": {},
   "outputs": [],
   "source": []
  }
 ],
 "metadata": {
  "kernelspec": {
   "display_name": "Python 3 (ipykernel)",
   "language": "python",
   "name": "python3"
  },
  "language_info": {
   "codemirror_mode": {
    "name": "ipython",
    "version": 3
   },
   "file_extension": ".py",
   "mimetype": "text/x-python",
   "name": "python",
   "nbconvert_exporter": "python",
   "pygments_lexer": "ipython3",
   "version": "3.8.19"
  }
 },
 "nbformat": 4,
 "nbformat_minor": 5
}
